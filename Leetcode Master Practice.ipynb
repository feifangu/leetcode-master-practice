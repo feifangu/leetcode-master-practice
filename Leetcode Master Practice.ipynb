{
  "nbformat": 4,
  "nbformat_minor": 0,
  "metadata": {
    "colab": {
      "provenance": [],
      "toc_visible": true
    },
    "kernelspec": {
      "name": "python3",
      "display_name": "Python 3"
    },
    "language_info": {
      "name": "python"
    }
  },
  "cells": [
    {
      "cell_type": "markdown",
      "source": [
        "# Leetcode Master Practice\n",
        "https://github.com/youngyangyang04/leetcode-master"
      ],
      "metadata": {
        "id": "fy1Prbc4GB76"
      }
    },
    {
      "cell_type": "code",
      "source": [
        "from typing import List\n",
        "from typing import Optional"
      ],
      "metadata": {
        "id": "uq60iwAVqrHu"
      },
      "execution_count": null,
      "outputs": []
    },
    {
      "cell_type": "markdown",
      "source": [
        "# Array"
      ],
      "metadata": {
        "id": "b0GsBkX2d8mi"
      }
    },
    {
      "cell_type": "markdown",
      "source": [
        "In Python, we use List as Array. For example, arr = ['python', 'java', ['c', 'c++']]"
      ],
      "metadata": {
        "id": "Qjp1uAH8IRXz"
      }
    },
    {
      "cell_type": "code",
      "source": [
        "# Basic array operations\n",
        "\n",
        "# create\n",
        "arr = [0, 5, 2, 3, 7]\n",
        "arr.append(3)\n",
        "print(arr)\n",
        "\n",
        "arr.insert(0,-2)\n",
        "arr"
      ],
      "metadata": {
        "colab": {
          "base_uri": "https://localhost:8080/"
        },
        "id": "A_7LKmo3Ilcm",
        "outputId": "1ca7b89a-c99f-4d02-ef95-ff91ff49a4be"
      },
      "execution_count": null,
      "outputs": [
        {
          "output_type": "stream",
          "name": "stdout",
          "text": [
            "[0, 5, 2, 3, 7, 3]\n"
          ]
        },
        {
          "output_type": "execute_result",
          "data": {
            "text/plain": [
              "[-2, 0, 5, 2, 3, 7, 3]"
            ]
          },
          "metadata": {},
          "execution_count": 8
        }
      ]
    },
    {
      "cell_type": "code",
      "source": [
        "# find\n",
        "arr[2]"
      ],
      "metadata": {
        "colab": {
          "base_uri": "https://localhost:8080/"
        },
        "id": "YBagpiPwJoxu",
        "outputId": "07562a36-fe1a-4ab4-e30a-b48f7de3fc02"
      },
      "execution_count": null,
      "outputs": [
        {
          "output_type": "execute_result",
          "data": {
            "text/plain": [
              "2"
            ]
          },
          "metadata": {},
          "execution_count": 4
        }
      ]
    },
    {
      "cell_type": "code",
      "source": [
        "# update\n",
        "arr[3] = -1\n",
        "arr"
      ],
      "metadata": {
        "colab": {
          "base_uri": "https://localhost:8080/"
        },
        "id": "Vy_VmzdUJrnq",
        "outputId": "a6ed59d3-6f63-4a18-f6b5-849ab263d238"
      },
      "execution_count": null,
      "outputs": [
        {
          "output_type": "execute_result",
          "data": {
            "text/plain": [
              "[0, 5, 2, -1, 7, 3]"
            ]
          },
          "metadata": {},
          "execution_count": 5
        }
      ]
    },
    {
      "cell_type": "code",
      "source": [
        "# delete\n",
        "arr.pop()\n",
        "print(arr)\n",
        "\n",
        "arr.pop(3)\n",
        "arr"
      ],
      "metadata": {
        "colab": {
          "base_uri": "https://localhost:8080/"
        },
        "id": "EetL50EKKF2D",
        "outputId": "be5e4085-cd40-46a6-d4e2-39a05556d19b"
      },
      "execution_count": null,
      "outputs": [
        {
          "output_type": "stream",
          "name": "stdout",
          "text": [
            "[0, 5, 2, -1, 7]\n"
          ]
        },
        {
          "output_type": "execute_result",
          "data": {
            "text/plain": [
              "[0, 5, 2, 7]"
            ]
          },
          "metadata": {},
          "execution_count": 6
        }
      ]
    },
    {
      "cell_type": "markdown",
      "source": [
        "## 704. Binary Search"
      ],
      "metadata": {
        "id": "SspXhKeWeHq7"
      }
    },
    {
      "cell_type": "markdown",
      "source": [
        "Given an array of integers nums which is sorted in ascending order, and an integer target, write a function to search target in nums. If target exists, then return its index. Otherwise, return -1.\n",
        "\n",
        "You must write an algorithm with O(log n) runtime complexity.\n",
        "\n",
        "\n",
        "Example 1:\n",
        "\n",
        "Input: nums = `[-1,0,3,5,9,12]`, target = 9\n",
        "Output: 4\n",
        "Explanation: 9 exists in nums and its index is 4"
      ],
      "metadata": {
        "id": "2LMGP6mPMyhq"
      }
    },
    {
      "cell_type": "code",
      "source": [
        "\n",
        "class Solution:\n",
        "    def search(self, nums: List[int], target: int) -> int:\n",
        "        left = 0\n",
        "        right = len(nums) - 1\n",
        "        while left <= right:\n",
        "            mid = left + (right - left) // 2\n",
        "            if nums[mid] == target:\n",
        "                return mid\n",
        "            elif nums[mid] > target:\n",
        "                right = mid-1\n",
        "            else:\n",
        "                left = mid+1\n",
        "        return -1\n",
        "\n",
        "# time complexity: O(log n)\n",
        "# space complexity: O(1)"
      ],
      "metadata": {
        "id": "G8zgRczbeFiO"
      },
      "execution_count": null,
      "outputs": []
    },
    {
      "cell_type": "code",
      "source": [
        "solution = Solution()\n",
        "\n",
        "# Create a sorted array to search in\n",
        "nums = [1, 2, 3, 4, 5, 6, 7, 8, 9]\n",
        "\n",
        "# Choose a target number to find\n",
        "target = 5\n",
        "\n",
        "# Call the search method\n",
        "result = solution.search(nums, target)\n",
        "\n",
        "print(result)"
      ],
      "metadata": {
        "colab": {
          "base_uri": "https://localhost:8080/"
        },
        "id": "1lQXDVnMOOXD",
        "outputId": "d4337c5b-cd8b-4171-8f54-a04cf8b33161"
      },
      "execution_count": null,
      "outputs": [
        {
          "output_type": "stream",
          "name": "stdout",
          "text": [
            "4\n"
          ]
        }
      ]
    },
    {
      "cell_type": "markdown",
      "source": [
        "## 20. Remove Element (fast-slow pointers)\n"
      ],
      "metadata": {
        "id": "yCCYC_XgT3AC"
      }
    },
    {
      "cell_type": "markdown",
      "source": [
        "Given an integer array nums and an integer val, remove all occurrences of val in nums in-place. The order of the elements may be changed. Then return the number of elements in nums which are not equal to val.\n",
        "\n",
        "Consider the number of elements in nums which are not equal to val be k, to get accepted, you need to do the following things:\n",
        "\n",
        "Change the array nums such that the first k elements of nums contain the elements which are not equal to val. The remaining elements of nums are not important as well as the size of nums.\n",
        "Return k.\n",
        "\n",
        "\n",
        "Example 1:\n",
        "\n",
        "Input: nums = `[3,2,2,3]`, val = 3\n",
        "Output: 2, nums = `[2,2,_,_]`\n",
        "Explanation: Your function should return k = 2, with the first two elements of nums being 2.\n",
        "It does not matter what you leave beyond the returned k (hence they are underscores)."
      ],
      "metadata": {
        "id": "fbEKcTC9T3AD"
      }
    },
    {
      "cell_type": "code",
      "source": [
        "from typing import List\n",
        "class Solution:\n",
        "    def removeElement(self, nums: List[int], val: int) -> int:\n",
        "        slow = 0\n",
        "        fast = 0\n",
        "        while fast < len(nums):\n",
        "            if nums[fast] != val:\n",
        "                nums[slow] = nums[fast]\n",
        "                slow += 1\n",
        "            fast += 1\n",
        "        return slow\n",
        "\n",
        "# time complexity: O(n)\n",
        "# space complexity: O(1)"
      ],
      "metadata": {
        "id": "EzMItib5T3AE"
      },
      "execution_count": null,
      "outputs": []
    },
    {
      "cell_type": "code",
      "source": [
        "solution = Solution()\n",
        "\n",
        "nums = [3,2,2,3]\n",
        "\n",
        "val = 3\n",
        "\n",
        "result = solution.removeElement(nums, val)\n",
        "\n",
        "print(result)"
      ],
      "metadata": {
        "colab": {
          "base_uri": "https://localhost:8080/"
        },
        "id": "5SI_mtSnUGFY",
        "outputId": "3033a206-0737-4414-fe51-03f3e726a7bd"
      },
      "execution_count": null,
      "outputs": [
        {
          "output_type": "stream",
          "name": "stdout",
          "text": [
            "2\n"
          ]
        }
      ]
    },
    {
      "cell_type": "markdown",
      "source": [
        "## 977. Squares of a Sorted Array (double pointers)\n"
      ],
      "metadata": {
        "id": "MH1nVzmv0qMW"
      }
    },
    {
      "cell_type": "markdown",
      "source": [
        "Given an integer array nums and an integer val, remove all occurrences of val in nums in-place. The order of the elements may be changed. Then return the number of elements in nums which are not equal to val.\n",
        "\n",
        "Consider the number of elements in nums which are not equal to val be k, to get accepted, you need to do the following things:\n",
        "\n",
        "Change the array nums such that the first k elements of nums contain the elements which are not equal to val. The remaining elements of nums are not important as well as the size of nums.\n",
        "Return k.\n",
        "\n",
        "\n",
        "Example 1:\n",
        "\n",
        "Input: nums = `[3,2,2,3]`, val = 3\n",
        "Output: 2, nums = `[2,2,_,_]`\n",
        "Explanation: Your function should return k = 2, with the first two elements of nums being 2.\n",
        "It does not matter what you leave beyond the returned k (hence they are underscores)."
      ],
      "metadata": {
        "id": "QQphssiL0qMX"
      }
    },
    {
      "cell_type": "code",
      "source": [
        "# solution 1: 双指针，赋值每个空位\n",
        "class Solution:\n",
        "    def sortedSquares(self, nums: List[int]) -> List[int]:\n",
        "        left = 0\n",
        "        right = len(nums) - 1\n",
        "        k = len(nums) - 1\n",
        "        res = [0] * len(nums)\n",
        "        while left <= right:\n",
        "            if nums[left] ** 2 <= nums[right] ** 2:\n",
        "                res[k] = nums[right] ** 2\n",
        "                right -= 1\n",
        "            else:\n",
        "                res[k] = nums[left] ** 2\n",
        "                left += 1\n",
        "            k-= 1\n",
        "        return res\n",
        "\n",
        "# time complexity: O(n)\n",
        "# space complexity: O(n)"
      ],
      "metadata": {
        "id": "HnR6jVnT0T4S"
      },
      "execution_count": null,
      "outputs": []
    },
    {
      "cell_type": "code",
      "source": [
        "# solution 2: 双指针，append，再翻转\n",
        "class Solution:\n",
        "    def sortedSquares(self, nums: List[int]) -> List[int]:\n",
        "        #根据list的先进排序在先原则\n",
        "        #将nums的平方按从大到小的顺序添加进新的list\n",
        "        #最后反转list\n",
        "        new_list = []\n",
        "        left, right = 0 , len(nums) -1\n",
        "        while left <= right:\n",
        "            if abs(nums[left]) <= abs(nums[right]):\n",
        "                new_list.append(nums[right] ** 2)\n",
        "                right -= 1\n",
        "            else:\n",
        "                new_list.append(nums[left] ** 2)\n",
        "                left += 1\n",
        "        return new_list[::-1]"
      ],
      "metadata": {
        "id": "vUTGJIffUVze"
      },
      "execution_count": null,
      "outputs": []
    },
    {
      "cell_type": "markdown",
      "source": [
        "## 209. Minimum Size Subarray Sum (sliding window)\n"
      ],
      "metadata": {
        "id": "mDBKBpnJqF9b"
      }
    },
    {
      "cell_type": "markdown",
      "source": [
        "Given an array of positive integers nums and a positive integer target, return the minimal length of a\n",
        "subarray\n",
        " whose sum is greater than or equal to target. If there is no such subarray, return 0 instead.\n",
        "\n",
        "\n",
        "\n",
        "Example 1:\n",
        "\n",
        "Input: target = 7, nums = `[2,3,1,2,4,3]`\n",
        "Output: 2"
      ],
      "metadata": {
        "id": "BcxfDvCRqF9c"
      }
    },
    {
      "cell_type": "code",
      "source": [
        "class Solution:\n",
        "    def minSubArrayLen(self, target: int, nums: List[int]) -> int:\n",
        "        l = len(nums)\n",
        "        left = 0\n",
        "        right = 0\n",
        "        min_length = float('inf')\n",
        "        cum_sum = 0\n",
        "        while right < l:\n",
        "            cum_sum += nums[right]\n",
        "            while cum_sum >= target:\n",
        "                min_length = min(min_length, right-left+1)\n",
        "                cum_sum -= nums[left]\n",
        "                left += 1\n",
        "            right += 1\n",
        "        return min_length if min_length != float('inf') else 0\n",
        "\n",
        "# time complexity: O(n)\n",
        "# space complexity: O(1)"
      ],
      "metadata": {
        "id": "fMlvAB-QqF9c"
      },
      "execution_count": null,
      "outputs": []
    },
    {
      "cell_type": "markdown",
      "source": [
        "To find a minimum value, start with assigning to infinity `float('inf')`"
      ],
      "metadata": {
        "id": "EcC8JTYtqtmy"
      }
    },
    {
      "cell_type": "markdown",
      "source": [
        "## 59. Spiral Matrix II (boundary conditions)\n"
      ],
      "metadata": {
        "id": "AhbsypEXovjg"
      }
    },
    {
      "cell_type": "markdown",
      "source": [
        "Given a positive integer n, generate an n x n matrix filled with elements from 1 to n2 in spiral order."
      ],
      "metadata": {
        "id": "JqSqXi5Dovjh"
      }
    },
    {
      "cell_type": "code",
      "source": [
        "class Solution:\n",
        "    def generateMatrix(self, n: int) -> List[List[int]]:\n",
        "        mat = [[0]*n for _ in range(n)]\n",
        "        count = 1\n",
        "        startx, starty = 0, 0\n",
        "        mid, loop = n//2, n//2\n",
        "        for offset in range(1, loop+1):\n",
        "            for j in range(startx, n-offset):\n",
        "                mat[startx][j] = count\n",
        "                count+=1\n",
        "            for i in range(starty, n-offset):\n",
        "                mat[i][n-starty-1] = count\n",
        "                count+=1\n",
        "            for j in range(n-offset, startx, -1):\n",
        "                mat[n-startx-1][j] = count\n",
        "                count+=1\n",
        "            for i in range(n-offset, starty, -1):\n",
        "                mat[i][starty] = count\n",
        "                count+=1\n",
        "            startx += 1\n",
        "            starty += 1\n",
        "        if n%2==1:\n",
        "            mat[mid][mid] = count\n",
        "        return mat\n",
        "\n",
        "# time complexity: O(n^2)\n",
        "# space complexity: O(1)"
      ],
      "metadata": {
        "id": "WITJorCZovjh"
      },
      "execution_count": null,
      "outputs": []
    },
    {
      "cell_type": "markdown",
      "source": [
        "# Linked List"
      ],
      "metadata": {
        "id": "Rc-GCTmwnmuz"
      }
    },
    {
      "cell_type": "markdown",
      "source": [
        "A linked list is a chain of nodes which contains data and pointer to the next (and previous) nodes.\n",
        "There are several types of linked lists, e.g., singly linked list, doubly linked list, circular linked list."
      ],
      "metadata": {
        "id": "8Fc5tEVPovjh"
      }
    },
    {
      "cell_type": "code",
      "source": [
        "class ListNode:\n",
        "  def __init__(self, val=0, next=None):\n",
        "    self.val = val\n",
        "    self.next = next\n",
        "\n",
        "class LinkedList:\n",
        "  def __init__(self, head):\n",
        "    head = None\n",
        "\n",
        "  # create using a list of data\n",
        "  def create(self, data):\n",
        "    if not data:\n",
        "      return\n",
        "    self.head = data[0]\n",
        "    cur = self.head\n",
        "    for i in range(0, len(data)):\n",
        "      node = ListNode(data[i])\n",
        "      cur.next = node\n",
        "      cur = cur.next\n",
        "\n",
        "  # append in the end\n",
        "  def append(self, val):\n",
        "    if not self.head:\n",
        "      self.head = ListNode(val)\n",
        "      return\n",
        "\n",
        "    current = self.head\n",
        "    while current.next:\n",
        "      current = current.next\n",
        "    current.next = ListNode(val)\n"
      ],
      "metadata": {
        "id": "BwPkAjIFrRWF"
      },
      "execution_count": null,
      "outputs": []
    },
    {
      "cell_type": "markdown",
      "source": [
        "## 203. Remove Linked List Elements (dummy head)\n"
      ],
      "metadata": {
        "id": "sfN1LxxKz403"
      }
    },
    {
      "cell_type": "markdown",
      "source": [
        "Given the head of a linked list and an integer val, remove all the nodes of the linked list that has Node.val == val, and return the new head."
      ],
      "metadata": {
        "id": "sy7Ra5PYz404"
      }
    },
    {
      "cell_type": "code",
      "source": [
        "# Definition for singly-linked list.\n",
        "class ListNode:\n",
        "  def __init__(self, val=0, next=None):\n",
        "    self.val = val\n",
        "    self.next = next\n",
        "class Solution:\n",
        "    def removeElements(self, head: Optional[ListNode], val: int) -> Optional[ListNode]:\n",
        "        dummy_head = ListNode(next = head)\n",
        "        cur = dummy_head\n",
        "        while cur.next:\n",
        "            if cur.next.val == val:\n",
        "                del_node = cur.next\n",
        "                cur.next = del_node.next\n",
        "            else:\n",
        "                cur = cur.next\n",
        "        return dummy_head.next\n",
        "\n",
        "\n",
        "# time complexity: O(n)\n",
        "# space complexity: O(1)"
      ],
      "metadata": {
        "id": "UeRYTD48z404"
      },
      "execution_count": null,
      "outputs": []
    },
    {
      "cell_type": "markdown",
      "source": [
        "## 707. Design Linked List (basic operations)\n"
      ],
      "metadata": {
        "id": "bHVYJUMlRTKs"
      }
    },
    {
      "cell_type": "markdown",
      "source": [
        "Design your implementation of the linked list. You can choose to use a singly or doubly linked list.\n",
        "A node in a singly linked list should have two attributes: val and next. val is the value of the current node, and next is a pointer/reference to the next node.\n",
        "If you want to use the doubly linked list, you will need one more attribute prev to indicate the previous node in the linked list. Assume all nodes in the linked list are 0-indexed.\n",
        "\n",
        "Implement the MyLinkedList class:\n",
        "\n",
        "MyLinkedList() Initializes the MyLinkedList object.\n",
        "int get(int index) Get the value of the indexth node in the linked list. If the index is invalid, return -1.\n",
        "void addAtHead(int val) Add a node of value val before the first element of the linked list. After the insertion, the new node will be the first node of the linked list.\n",
        "void addAtTail(int val) Append a node of value val as the last element of the linked list.\n",
        "void addAtIndex(int index, int val) Add a node of value val before the indexth node in the linked list. If index equals the length of the linked list, the node will be appended to the end of the linked list. If index is greater than the length, the node will not be inserted.\n",
        "void deleteAtIndex(int index) Delete the indexth node in the linked list, if the index is valid."
      ],
      "metadata": {
        "id": "7RJZVzijRTKu"
      }
    },
    {
      "cell_type": "code",
      "source": [
        "class ListNode:\n",
        "    def __init__(self, val = 0, next = None):\n",
        "        self.val = val\n",
        "        self.next = next\n",
        "\n",
        "\n",
        "class MyLinkedList:\n",
        "\n",
        "    def __init__(self):\n",
        "        self.dummy_head = ListNode()\n",
        "        self.size = 0\n",
        "\n",
        "    def get(self, index: int) -> int:\n",
        "        if index < 0 or index >= self.size:\n",
        "            return -1\n",
        "\n",
        "        cur = self.dummy_head\n",
        "        for i in range(index+1):\n",
        "            cur = cur.next\n",
        "        return cur.val\n",
        "\n",
        "# time complexity: O(n)\n",
        "# space complexity: O(1)\n",
        "\n",
        "    def addAtHead(self, val: int) -> None:\n",
        "        cur = self.dummy_head\n",
        "        added_node = ListNode(val,cur.next)\n",
        "        #added_node.next = cur.next\n",
        "        cur.next = added_node\n",
        "        self.size += 1\n",
        "\n",
        "# time complexity: O(1)\n",
        "# space complexity: O(1)\n",
        "\n",
        "    def addAtTail(self, val: int) -> None:\n",
        "        cur = self.dummy_head\n",
        "        while cur.next:\n",
        "            cur = cur.next\n",
        "        cur.next = ListNode(val)\n",
        "        self.size += 1\n",
        "\n",
        "# time complexity: O(n)\n",
        "# space complexity: O(1)\n",
        "\n",
        "    def addAtIndex(self, index: int, val: int) -> None:\n",
        "        cur = self.dummy_head\n",
        "        count = 0\n",
        "        if index < 0 or index >self.size:\n",
        "            return\n",
        "        current = self.dummy_head\n",
        "        for i in range(index):\n",
        "            current = current.next\n",
        "        current.next = ListNode(val, current.next)\n",
        "        self.size += 1\n",
        "\n",
        "# time complexity: O(index)\n",
        "# space complexity: O(1)\n",
        "\n",
        "    def deleteAtIndex(self, index: int) -> None:\n",
        "        if index < 0 or index >= self.size:\n",
        "            return\n",
        "        current = self.dummy_head\n",
        "        for i in range(index):\n",
        "            current = current.next\n",
        "        current.next = current.next.next\n",
        "        self.size -= 1\n",
        "\n",
        "# time complexity: O(index)\n",
        "# space complexity: O(1)\n",
        "\n"
      ],
      "metadata": {
        "id": "4kAOMI4qRTKu"
      },
      "execution_count": null,
      "outputs": []
    },
    {
      "cell_type": "markdown",
      "source": [
        "## 206. Reverse Linked List (double pointers)\n"
      ],
      "metadata": {
        "id": "vscdrpD4Fwnb"
      }
    },
    {
      "cell_type": "markdown",
      "source": [
        "Given the head of a singly linked list, reverse the list, and return the reversed list."
      ],
      "metadata": {
        "id": "sUMYE1vNFwnc"
      }
    },
    {
      "cell_type": "code",
      "source": [
        "# Definition for singly-linked list.\n",
        "# class ListNode:\n",
        "#     def __init__(self, val=0, next=None):\n",
        "#         self.val = val\n",
        "#         self.next = next\n",
        "class Solution:\n",
        "    def reverseList(self, head: Optional[ListNode]) -> Optional[ListNode]:\n",
        "        pre = None\n",
        "        cur = head\n",
        "        while cur:\n",
        "            temp = cur.next\n",
        "            cur.next = pre\n",
        "            pre = cur\n",
        "            cur = temp\n",
        "        return pre\n",
        "\n",
        "\n",
        "\n",
        "# time complexity: O(n)\n",
        "# space complexity: O(1)"
      ],
      "metadata": {
        "id": "-K3dRSKKFwnd"
      },
      "execution_count": null,
      "outputs": []
    },
    {
      "cell_type": "markdown",
      "source": [
        "It uses None instead of a dummy head because after finishing the reversal, we need the linked list to point to a null, instead of a dummy head."
      ],
      "metadata": {
        "id": "L339GqRHGH7F"
      }
    },
    {
      "cell_type": "markdown",
      "source": [
        "## 24. Swap Nodes in Pairs\n"
      ],
      "metadata": {
        "id": "EAGLyR2NOqch"
      }
    },
    {
      "cell_type": "markdown",
      "source": [
        "Given a linked list, swap every two adjacent nodes and return its head. You must solve the problem without modifying the values in the list's nodes (i.e., only nodes themselves may be changed.)\n",
        "\n",
        "\n",
        "\n",
        "Example 1:\n",
        "\n",
        "Input: head = `[1,2,3,4]`\n",
        "\n",
        "Output: `[2,1,4,3]`"
      ],
      "metadata": {
        "id": "BwBJAH0rOqci"
      }
    },
    {
      "cell_type": "code",
      "source": [
        "# Definition for singly-linked list.\n",
        "# class ListNode:\n",
        "#     def __init__(self, val=0, next=None):\n",
        "#         self.val = val\n",
        "#         self.next = next\n",
        "class Solution:\n",
        "    def swapPairs(self, head: Optional[ListNode]) -> Optional[ListNode]:\n",
        "        dummy_head = ListNode(val=0, next=head)\n",
        "        cur = dummy_head\n",
        "        while cur.next and cur.next.next:\n",
        "            node1 = cur.next\n",
        "            node2 = cur.next.next\n",
        "            node1.next = node2.next\n",
        "            node2.next = node1\n",
        "            cur.next = node2\n",
        "            cur = cur.next.next\n",
        "        return dummy_head.next\n",
        "\n",
        "\n",
        "\n",
        "# time complexity: O(n)\n",
        "# space complexity: O(1)"
      ],
      "metadata": {
        "id": "klxLSUJsOqci"
      },
      "execution_count": null,
      "outputs": []
    },
    {
      "cell_type": "code",
      "source": [
        "# Definition for singly-linked list.\n",
        "# class ListNode:\n",
        "#     def __init__(self, val=0, next=None):\n",
        "#         self.val = val\n",
        "#         self.next = next\n",
        "class Solution:\n",
        "    def swapPairs(self, head: Optional[ListNode]) -> Optional[ListNode]:\n",
        "        dummy_head = ListNode(val=0, next=head)\n",
        "        cur = dummy_head\n",
        "        while cur.next and cur.next.next:\n",
        "            node1 = cur.next\n",
        "            node2 = cur.next.next\n",
        "            node3 = cur.next.next.next\n",
        "            node2.next = node1\n",
        "            node1.next = node3\n",
        "            cur.next = node2\n",
        "            cur = cur.next.next\n",
        "        return dummy_head.next\n",
        "\n",
        "# time complexity: O(n)\n",
        "# space complexity: O(1)"
      ],
      "metadata": {
        "id": "fw-8FtWQPfSE"
      },
      "execution_count": null,
      "outputs": []
    },
    {
      "cell_type": "markdown",
      "source": [
        "## 19. Remove Nth Node From End of List (fast-slow pointers)\n"
      ],
      "metadata": {
        "id": "HrV-VlDsZ0rl"
      }
    },
    {
      "cell_type": "markdown",
      "source": [
        "Given the head of a linked list, remove the nth node from the end of the list and return its head."
      ],
      "metadata": {
        "id": "xwfa33Q2Z0rn"
      }
    },
    {
      "cell_type": "code",
      "source": [
        "# swipe first to get the length, and swipe again\n",
        "# Definition for singly-linked list.\n",
        "# class ListNode:\n",
        "#     def __init__(self, val=0, next=None):\n",
        "#         self.val = val\n",
        "#         self.next = next\n",
        "class Solution:\n",
        "    def removeNthFromEnd(self, head: Optional[ListNode], n: int) -> Optional[ListNode]:\n",
        "        dummy_head = ListNode(0, head)\n",
        "        cur = dummy_head\n",
        "        l = 0\n",
        "        while cur.next:\n",
        "            cur = cur.next\n",
        "            l+=1\n",
        "        i = 0\n",
        "        cur = dummy_head\n",
        "        while cur.next and i < l-n:\n",
        "            cur = cur.next\n",
        "            i+=1\n",
        "        cur.next = cur.next.next\n",
        "        return dummy_head.next\n",
        "\n",
        "\n",
        "\n",
        "# time complexity: O(n)\n",
        "# space complexity: O(1)"
      ],
      "metadata": {
        "id": "LZXzRATkZ0rn"
      },
      "execution_count": null,
      "outputs": []
    },
    {
      "cell_type": "code",
      "source": [
        "# fast-slow pointers to do in \"one swipe\"\n",
        "# Definition for singly-linked list.\n",
        "# class ListNode:\n",
        "#     def __init__(self, val=0, next=None):\n",
        "#         self.val = val\n",
        "#         self.next = next\n",
        "class Solution:\n",
        "    def removeNthFromEnd(self, head: Optional[ListNode], n: int) -> Optional[ListNode]:\n",
        "        dummy_head = ListNode(0, head)\n",
        "        cur = dummy_head\n",
        "        fast = cur\n",
        "        slow = cur\n",
        "        l = 0\n",
        "        while fast.next and l<n:\n",
        "            fast = fast.next\n",
        "            l+=1\n",
        "        while fast.next:\n",
        "            fast = fast.next\n",
        "            slow = slow.next\n",
        "        slow.next = slow.next.next\n",
        "        return dummy_head.next\n",
        "\n",
        "# time complexity: O(n)\n",
        "# space complexity: O(1)"
      ],
      "metadata": {
        "id": "ixSz2ln1Z0rn"
      },
      "execution_count": null,
      "outputs": []
    },
    {
      "cell_type": "markdown",
      "source": [
        "## 160. Intersection of Two Linked Lists (double pointers)\n"
      ],
      "metadata": {
        "id": "9vTI8v5IJZdL"
      }
    },
    {
      "cell_type": "markdown",
      "source": [
        "Given the heads of two singly linked-lists headA and headB, return the node at which the two lists intersect. If the two linked lists have no intersection at all, return null."
      ],
      "metadata": {
        "id": "9j3wWYe9JZdN"
      }
    },
    {
      "cell_type": "code",
      "source": [
        "# Definition for singly-linked list.\n",
        "# class ListNode:\n",
        "#     def __init__(self, x):\n",
        "#         self.val = x\n",
        "#         self.next = None\n",
        "\n",
        "class Solution:\n",
        "    def getIntersectionNode(self, headA: ListNode, headB: ListNode) -> Optional[ListNode]:\n",
        "        pointA = headA\n",
        "        pointB = headB\n",
        "        while pointA!=pointB:\n",
        "            pointA = pointA.next if pointA else headB\n",
        "            pointB = pointB.next if pointB else headA\n",
        "        return pointA\n",
        "\n",
        "\n",
        "\n",
        "# time complexity: O(n)\n",
        "# space complexity: O(1)"
      ],
      "metadata": {
        "id": "eBAhAHzaJZdN"
      },
      "execution_count": null,
      "outputs": []
    },
    {
      "cell_type": "markdown",
      "source": [
        "## 142. Linked List Cycle II (fast-slow pointers)\n"
      ],
      "metadata": {
        "id": "IG5kDuD2atKT"
      }
    },
    {
      "cell_type": "markdown",
      "source": [
        "Given the head of a linked list, return the node where the cycle begins. If there is no cycle, return null.\n",
        "\n",
        "There is a cycle in a linked list if there is some node in the list that can be reached again by continuously following the next pointer. Internally, pos is used to denote the index of the node that tail's next pointer is connected to (0-indexed). It is -1 if there is no cycle. Note that pos is not passed as a parameter."
      ],
      "metadata": {
        "id": "bpEVDzb1atKU"
      }
    },
    {
      "cell_type": "code",
      "source": [
        "# Definition for singly-linked list.\n",
        "# class ListNode:\n",
        "#     def __init__(self, x):\n",
        "#         self.val = x\n",
        "#         self.next = None\n",
        "\n",
        "class Solution:\n",
        "    def detectCycle(self, head: Optional[ListNode]) -> Optional[ListNode]:\n",
        "        slow = head\n",
        "        fast = head\n",
        "        while fast and fast.next:\n",
        "            slow = slow.next\n",
        "            fast = fast.next.next\n",
        "            if slow==fast:\n",
        "                slow = head\n",
        "                while slow!=fast:\n",
        "                    slow = slow.next\n",
        "                    fast = fast.next\n",
        "                return slow\n",
        "        return None\n",
        "\n",
        "\n",
        "\n",
        "# time complexity: O(n)\n",
        "# space complexity: O(1)"
      ],
      "metadata": {
        "id": "qSakfWDqatKU"
      },
      "execution_count": null,
      "outputs": []
    },
    {
      "cell_type": "markdown",
      "source": [
        "# Hash Table"
      ],
      "metadata": {
        "id": "kfeZdM0c8XqQ"
      }
    },
    {
      "cell_type": "markdown",
      "source": [
        "3 typical ways of solving hash table problems:\n",
        "1. Array (i.e. List in Python), when key is continuous and limited (e.g. 26 letters). underlying implementation is not a hash table actually.\n",
        "2. Set, when we want to dedup. It is a Hash table\n",
        "3. Dict, when the keys are discrete and we don't want to dedup. It is a Hash table"
      ],
      "metadata": {
        "id": "b4BtXN_tL4N7"
      }
    },
    {
      "cell_type": "markdown",
      "source": [
        "## 242. Valid Anagram (counter)\n",
        "\n",
        "\n"
      ],
      "metadata": {
        "id": "qmom_wII72pa"
      }
    },
    {
      "cell_type": "markdown",
      "source": [
        "Given two strings s and t, return true if t is an\n",
        "anagram\n",
        " of s, and false otherwise.\n",
        "\n",
        "\n",
        "\n",
        "Example 1:\n",
        "\n",
        "Input: s = \"anagram\", t = \"nagaram\"\n",
        "\n",
        "Output: true"
      ],
      "metadata": {
        "id": "-QYohJ2z72pb"
      }
    },
    {
      "cell_type": "code",
      "source": [
        "class Solution:\n",
        "    def isAnagram(self, s: str, t: str) -> bool:\n",
        "        from collections import Counter\n",
        "        return Counter(s) == Counter(t)\n",
        "\n",
        "\n",
        "# time complexity: O(n)\n",
        "# space complexity: O(1)"
      ],
      "metadata": {
        "id": "-DBGcOEe72pb"
      },
      "execution_count": null,
      "outputs": []
    },
    {
      "cell_type": "markdown",
      "source": [
        "## 1002. Find Common Characters\n"
      ],
      "metadata": {
        "id": "0qY4B5vMifFC"
      }
    },
    {
      "cell_type": "markdown",
      "source": [
        "Given two strings s and t, return true if t is an\n",
        "anagram\n",
        " of s, and false otherwise.\n",
        "\n",
        "\n",
        "\n",
        "Example 1:\n",
        "\n",
        "Input: s = \"anagram\", t = \"nagaram\"\n",
        "\n",
        "Output: true"
      ],
      "metadata": {
        "id": "-xJvezjYifFD"
      }
    },
    {
      "cell_type": "code",
      "source": [
        "class Solution:\n",
        "    def commonChars(self, words: List[str]) -> List[str]:\n",
        "        res = []\n",
        "        hash1 = [0]*26\n",
        "        for s in words[0]:\n",
        "            hash1[ord(s)-ord('a')] += 1\n",
        "        for i in range(1,len(words)):\n",
        "            hash2 = [0]*26\n",
        "            for s in words[i]:\n",
        "                hash2[ord(s)-ord('a')] += 1\n",
        "            for j in range(26):\n",
        "                hash1[j] = min(hash1[j],hash2[j])\n",
        "        for i in range(26):\n",
        "            while hash1[i] > 0:\n",
        "                res.append(chr(ord('a')+i))\n",
        "                hash1[i] -= 1\n",
        "        return res\n",
        "\n",
        "\n",
        "# time complexity: O(m*n)\n",
        "# space complexity: O(1)"
      ],
      "metadata": {
        "id": "b1RiLqEiifFD"
      },
      "execution_count": null,
      "outputs": []
    },
    {
      "cell_type": "markdown",
      "source": [
        "## 349. Intersection of Two Arrays\n"
      ],
      "metadata": {
        "id": "SQQvW1MONgsD"
      }
    },
    {
      "cell_type": "markdown",
      "source": [
        "Given two integer arrays nums1 and nums2, return an array of their\n",
        "intersection\n",
        ". Each element in the result must be unique and you may return the result in any order.\n",
        "\n",
        "\n",
        "\n",
        "Example 1:\n",
        "\n",
        "Input: nums1 = [1,2,2,1], nums2 = [2,2]\n",
        "Output: [2]"
      ],
      "metadata": {
        "id": "dDYFAXA9NgsE"
      }
    },
    {
      "cell_type": "code",
      "source": [
        "class Solution:\n",
        "    def intersection(self, nums1: List[int], nums2: List[int]) -> List[int]:\n",
        "        return list(set(nums1) & set(nums2))\n",
        "\n",
        "# time complexity: O(m+n)\n",
        "# space complexity: O(n)"
      ],
      "metadata": {
        "id": "0_ifUfx3NgsE"
      },
      "execution_count": null,
      "outputs": []
    },
    {
      "cell_type": "markdown",
      "source": [
        "## 202. Happy Number"
      ],
      "metadata": {
        "id": "maH09HQNc19S"
      }
    },
    {
      "cell_type": "markdown",
      "source": [
        "Write an algorithm to determine if a number n is happy.\n",
        "\n",
        "A happy number is a number defined by the following process:\n",
        "\n",
        "Starting with any positive integer, replace the number by the sum of the squares of its digits.\n",
        "Repeat the process until the number equals 1 (where it will stay), or it loops endlessly in a cycle which does not include 1.\n",
        "Those numbers for which this process ends in 1 are happy.\n",
        "Return true if n is a happy number, and false if not.\n",
        "\n",
        "\n",
        "\n",
        "Example 1:\n",
        "\n",
        "Input: n = 19\n",
        "Output: true\n",
        "Explanation:\n",
        "12 + 92 = 82\n",
        "82 + 22 = 68\n",
        "62 + 82 = 100\n",
        "12 + 02 + 02 = 1"
      ],
      "metadata": {
        "id": "zqOciTn-c19T"
      }
    },
    {
      "cell_type": "code",
      "source": [
        "class Solution:\n",
        "    def isHappy(self, n: int) -> bool:\n",
        "        res = set()\n",
        "        while n > 0:\n",
        "            n = self.self_add(n)\n",
        "            if n in res:\n",
        "                return False\n",
        "            elif n != 1:\n",
        "                res.add(n)\n",
        "            else:\n",
        "                return True\n",
        "\n",
        "\n",
        "    def self_add(self,n):\n",
        "        s = 0\n",
        "        while n > 0:\n",
        "            n, r = divmod(n ,10)\n",
        "            s += r**2\n",
        "        return s\n",
        "\n",
        "\n",
        "# time complexity: O(logn)\n",
        "# space complexity: O(logn)"
      ],
      "metadata": {
        "id": "GObewXM4c19T"
      },
      "execution_count": null,
      "outputs": []
    },
    {
      "cell_type": "markdown",
      "source": [
        "## 1. Two Sum"
      ],
      "metadata": {
        "id": "emo5jks88BGR"
      }
    },
    {
      "cell_type": "markdown",
      "source": [
        "Given an array of integers nums and an integer target, return indices of the two numbers such that they add up to target.\n",
        "\n",
        "You may assume that each input would have exactly one solution, and you may not use the same element twice.\n",
        "\n",
        "You can return the answer in any order.\n",
        "\n",
        "\n",
        "\n",
        "Example 1:\n",
        "\n",
        "Input: nums = [2,7,11,15], target = 9\n",
        "Output: [0,1]\n",
        "Explanation: Because nums[0] + nums[1] == 9, we return [0, 1]."
      ],
      "metadata": {
        "id": "q_EAxNCD8BGS"
      }
    },
    {
      "cell_type": "code",
      "source": [
        "class Solution:\n",
        "    def twoSum(self, nums: List[int], target: int) -> List[int]:\n",
        "        sol = {}\n",
        "        sol[nums[0]] = 0\n",
        "        for i in range(1,len(nums)):\n",
        "            if target-nums[i] in sol:\n",
        "                return [i, sol[target-nums[i]]]\n",
        "            else:\n",
        "                sol[nums[i]] = i\n",
        "\n",
        "\n",
        "# time complexity: O(n)\n",
        "# space complexity: O(n)"
      ],
      "metadata": {
        "id": "fAD3UmfK8BGS"
      },
      "execution_count": null,
      "outputs": []
    },
    {
      "cell_type": "markdown",
      "source": [
        "## 454. Four Sum II"
      ],
      "metadata": {
        "id": "IxilxXxaEFLM"
      }
    },
    {
      "cell_type": "markdown",
      "source": [
        "Given four integer arrays nums1, nums2, nums3, and nums4 all of length n, return the number of tuples (i, j, k, l) such that:\n",
        "\n",
        "0 <= i, j, k, l < n\n",
        "nums1[i] + nums2[j] + nums3[k] + nums4[l] == 0\n",
        "\n",
        "\n",
        "Example 1:\n",
        "\n",
        "Input: nums1 = [1,2], nums2 = [-2,-1], nums3 = [-1,2], nums4 = [0,2]\n",
        "Output: 2\n",
        "Explanation:\n",
        "The two tuples are:\n",
        "1. (0, 0, 0, 1) -> nums1[0] + nums2[0] + nums3[0] + nums4[1] = 1 + (-2) + (-1) + 2 = 0\n",
        "2. (1, 1, 0, 0) -> nums1[1] + nums2[1] + nums3[0] + nums4[0] = 2 + (-1) + (-1) + 0 = 0"
      ],
      "metadata": {
        "id": "yjab4makEFLN"
      }
    },
    {
      "cell_type": "code",
      "source": [
        "class Solution:\n",
        "    def fourSumCount(self, nums1: List[int], nums2: List[int], nums3: List[int], nums4: List[int]) -> int:\n",
        "        hashmap = dict()\n",
        "        for n1 in nums1:\n",
        "            for n2 in nums2:\n",
        "                hashmap[n1+n2] = hashmap.get(n1+n2, 0) + 1\n",
        "\n",
        "        count = 0\n",
        "        for n3 in nums3:\n",
        "            for n4 in nums4:\n",
        "                key = - n3 - n4\n",
        "                if key in hashmap:\n",
        "                    count += hashmap[key]\n",
        "        return count\n",
        "\n",
        "\n",
        "# time complexity: O(n^2)\n",
        "# space complexity: O(n^2)"
      ],
      "metadata": {
        "id": "Rx_B-qsJEFLN"
      },
      "execution_count": null,
      "outputs": []
    },
    {
      "cell_type": "markdown",
      "source": [
        "## 383. Ransom Note"
      ],
      "metadata": {
        "id": "BC7TvXdlX5vL"
      }
    },
    {
      "cell_type": "markdown",
      "source": [
        "Given two strings ransomNote and magazine, return true if ransomNote can be constructed by using the letters from magazine and false otherwise.\n",
        "\n",
        "Each letter in magazine can only be used once in ransomNote.\n",
        "\n",
        "\n",
        "\n",
        "Example 1:\n",
        "\n",
        "Input: ransomNote = \"a\", magazine = \"b\"\n",
        "Output: false"
      ],
      "metadata": {
        "id": "JY0GE8URX5vM"
      }
    },
    {
      "cell_type": "code",
      "source": [
        "class Solution:\n",
        "    def canConstruct(self, ransomNote: str, magazine: str) -> bool:\n",
        "        #ransom_count = [0] * 26\n",
        "        magazine_count = [0] * 26\n",
        "        for c in magazine:\n",
        "            magazine_count[ord(c) - ord('a')] += 1\n",
        "        for c in ransomNote:\n",
        "            magazine_count[ord(c) - ord('a')] -= 1\n",
        "        return not any(magazine_count[i] <0 for i in range(26))\n",
        "\n",
        "\n",
        "# time complexity: O(n)\n",
        "# space complexity: O(1)"
      ],
      "metadata": {
        "id": "Y8wNUabEX5vM"
      },
      "execution_count": null,
      "outputs": []
    },
    {
      "cell_type": "markdown",
      "source": [
        "## 15. 3Sum (double pointers)"
      ],
      "metadata": {
        "id": "dI-4HmjzPYiP"
      }
    },
    {
      "cell_type": "markdown",
      "source": [
        "Given an integer array nums, return all the triplets [nums[i], nums[j], nums[k]] such that i != j, i != k, and j != k, and nums[i] + nums[j] + nums[k] == 0.\n",
        "\n",
        "Notice that the solution set must not contain duplicate triplets.\n",
        "\n",
        "\n",
        "\n",
        "Example 1:\n",
        "\n",
        "Input: nums = [-1,0,1,2,-1,-4]\n",
        "Output: [[-1,-1,2],[-1,0,1]]\n",
        "Explanation:\n",
        "nums[0] + nums[1] + nums[2] = (-1) + 0 + 1 = 0.\n",
        "nums[1] + nums[2] + nums[4] = 0 + 1 + (-1) = 0.\n",
        "nums[0] + nums[3] + nums[4] = (-1) + 2 + (-1) = 0.\n",
        "The distinct triplets are [-1,0,1] and [-1,-1,2].\n",
        "Notice that the order of the output and the order of the triplets does not matter."
      ],
      "metadata": {
        "id": "KNtCp_H7PYiP"
      }
    },
    {
      "cell_type": "code",
      "source": [
        "class Solution:\n",
        "    def threeSum(self, nums: List[int]) -> List[List[int]]:\n",
        "        nums.sort()\n",
        "        ans = []\n",
        "        for i in range(len(nums)):\n",
        "            if nums[i]>0:\n",
        "                return ans\n",
        "            if i>0 and nums[i] == nums[i-1]:\n",
        "                continue\n",
        "            j = i+1\n",
        "            k = len(nums)-1\n",
        "            while j<k:\n",
        "                if nums[i]+nums[j]+nums[k] < 0:\n",
        "                    j+=1\n",
        "                elif nums[i]+nums[j]+nums[k] > 0:\n",
        "                    k-=1\n",
        "                else:\n",
        "                    ans.append([nums[i],nums[j],nums[k]])\n",
        "                    while j<k and nums[j]==nums[j+1]:\n",
        "                        j+=1\n",
        "                    while j<k and nums[k]==nums[k-1]:\n",
        "                        k-=1\n",
        "                    j+=1\n",
        "                    k-=1\n",
        "\n",
        "\n",
        "\n",
        "        return ans\n",
        "\n",
        "# time complexity: O(n^2)\n",
        "# space complexity: O(1)"
      ],
      "metadata": {
        "id": "hGCrVBDxPYiQ"
      },
      "execution_count": null,
      "outputs": []
    },
    {
      "cell_type": "markdown",
      "source": [
        "## 15. 4Sum (double pointers)"
      ],
      "metadata": {
        "id": "iIvRx7NcasvV"
      }
    },
    {
      "cell_type": "markdown",
      "source": [
        "Given an array nums of n integers, return an array of all the unique quadruplets [nums[a], nums[b], nums[c], nums[d]] such that:\n",
        "\n",
        "0 <= a, b, c, d < n\n",
        "a, b, c, and d are distinct.\n",
        "nums[a] + nums[b] + nums[c] + nums[d] == target\n",
        "You may return the answer in any order.\n",
        "\n",
        "\n",
        "\n",
        "Example 1:\n",
        "\n",
        "Input: nums = [1,0,-1,0,-2,2], target = 0\n",
        "Output: [[-2,-1,1,2],[-2,0,0,2],[-1,0,0,1]]"
      ],
      "metadata": {
        "id": "WTdiOSdSasvW"
      }
    },
    {
      "cell_type": "code",
      "source": [
        "class Solution:\n",
        "    def fourSum(self, nums: List[int], target: int) -> List[List[int]]:\n",
        "        nums.sort()\n",
        "        ans = []\n",
        "        for i in range(len(nums)-3):\n",
        "            if nums[i] > target and target > 0:\n",
        "                return ans\n",
        "            if i>0 and nums[i] == nums[i-1]:\n",
        "                continue\n",
        "            for j in range(i+1,len(nums)-2):\n",
        "                if nums[i] + nums[j] > target and target>0:\n",
        "                    break\n",
        "                if j>i+1 and nums[j] == nums[j-1]:\n",
        "                    continue\n",
        "                k = j+1\n",
        "                l = len(nums) - 1\n",
        "                while k < l:\n",
        "                    s = nums[i] + nums[j] + nums[k] + nums[l]\n",
        "                    if s > target:\n",
        "                        l-=1\n",
        "                    elif s < target:\n",
        "                        k+=1\n",
        "                    else:\n",
        "                        ans.append([nums[i],nums[j],nums[k],nums[l]])\n",
        "                        while k<l and nums[k] == nums[k+1]:\n",
        "                            k+=1\n",
        "                        while k<l and nums[l] == nums[l-1]:\n",
        "                            l-=1\n",
        "                        k+=1\n",
        "                        l-=1\n",
        "        return ans\n",
        "# time complexity: O(n^3)\n",
        "# space complexity: O(1)"
      ],
      "metadata": {
        "id": "37jRpN35asvW"
      },
      "execution_count": null,
      "outputs": []
    },
    {
      "cell_type": "markdown",
      "source": [
        "# String"
      ],
      "metadata": {
        "id": "ZsTjc9QPzjFd"
      }
    },
    {
      "cell_type": "markdown",
      "source": [
        "## 344. Reverse String"
      ],
      "metadata": {
        "id": "YHZyncj_nXyS"
      }
    },
    {
      "cell_type": "markdown",
      "source": [
        "Write a function that reverses a string. The input string is given as an array of characters s.\n",
        "\n",
        "You must do this by modifying the input array in-place with O(1) extra memory.\n",
        "\n",
        "\n",
        "\n",
        "Example 1:\n",
        "\n",
        "Input: s = [\"h\",\"e\",\"l\",\"l\",\"o\"]\n",
        "Output: [\"o\",\"l\",\"l\",\"e\",\"h\"]"
      ],
      "metadata": {
        "id": "Vp9TTXsynXyT"
      }
    },
    {
      "cell_type": "code",
      "source": [
        "class Solution:\n",
        "    def reverseString(self, s: List[str]) -> None:\n",
        "        \"\"\"\n",
        "        Do not return anything, modify s in-place instead.\n",
        "        \"\"\"\n",
        "        i = 0\n",
        "        j = len(s) - 1\n",
        "        while i < j:\n",
        "            s[i], s[j] = s[j], s[i]\n",
        "            i+=1\n",
        "            j-=1\n",
        "        return s\n",
        "# time complexity: O(n)\n",
        "# space complexity: O(1)"
      ],
      "metadata": {
        "id": "T2gVhL0InXyT"
      },
      "execution_count": null,
      "outputs": []
    },
    {
      "cell_type": "markdown",
      "source": [
        "## 541. Reverse String II"
      ],
      "metadata": {
        "id": "S_Hxc3wptPxG"
      }
    },
    {
      "cell_type": "markdown",
      "source": [
        "Given a string s and an integer k, reverse the first k characters for every 2k characters counting from the start of the string.\n",
        "\n",
        "If there are fewer than k characters left, reverse all of them. If there are less than 2k but greater than or equal to k characters, then reverse the first k characters and leave the other as original.\n",
        "\n",
        "\n",
        "\n",
        "Example 1:\n",
        "\n",
        "Input: s = \"abcdefg\", k = 2\n",
        "Output: \"bacdfeg\""
      ],
      "metadata": {
        "id": "8zpwACREtPxG"
      }
    },
    {
      "cell_type": "code",
      "source": [
        "class Solution:\n",
        "    def reverseStr(self, s: str, k: int) -> str:\n",
        "        s = list(s)\n",
        "        for i in range(0,len(s),2*k):\n",
        "            s[i:i+k] = reversed(s[i:i+k])\n",
        "        return \"\".join(s)\n",
        "# time complexity: O(n)\n",
        "# space complexity: O(1)"
      ],
      "metadata": {
        "id": "r3y71qvTtPxH"
      },
      "execution_count": null,
      "outputs": []
    },
    {
      "cell_type": "markdown",
      "source": [
        "## 151. Reverse Words in a String"
      ],
      "metadata": {
        "id": "2406bi6dHAsX"
      }
    },
    {
      "cell_type": "markdown",
      "source": [
        "Given an input string s, reverse the order of the words.\n",
        "\n",
        "A word is defined as a sequence of non-space characters. The words in s will be separated by at least one space.\n",
        "\n",
        "Return a string of the words in reverse order concatenated by a single space.\n",
        "\n",
        "Note that s may contain leading or trailing spaces or multiple spaces between two words. The returned string should only have a single space separating the words. Do not include any extra spaces.\n",
        "\n",
        "\n",
        "\n",
        "Example 1:\n",
        "\n",
        "Input: s = \"the sky is blue\"\n",
        "Output: \"blue is sky the\"\n",
        "\n",
        "\n",
        "\n",
        "Example 1:\n",
        "\n",
        "Input: s = \"abcdefg\", k = 2\n",
        "Output: \"bacdfeg\""
      ],
      "metadata": {
        "id": "ZRom-hdwHAsY"
      }
    },
    {
      "cell_type": "code",
      "source": [
        "class Solution:\n",
        "    def reverseWords(self, s: str) -> str:\n",
        "        l = s.split()\n",
        "        return \" \".join(l[::-1])\n",
        "# time complexity: O(n)\n",
        "# space complexity: O(1)"
      ],
      "metadata": {
        "id": "dxEHqPreHAsY"
      },
      "execution_count": null,
      "outputs": []
    },
    {
      "cell_type": "markdown",
      "source": [
        "# Stack and Queue"
      ],
      "metadata": {
        "id": "uqBrj4CJHqPX"
      }
    },
    {
      "cell_type": "markdown",
      "source": [
        "*   Stack: FILO (first-in-last-out)\n",
        "\n",
        "  *   Use list\n",
        "\n",
        "*   Queue: FIFO (first-in-first-out)\n",
        "  *   Use from collections import deque\n"
      ],
      "metadata": {
        "id": "s9GasJ-M-E5O"
      }
    },
    {
      "cell_type": "markdown",
      "source": [
        "##232. Implement Queue using Stacks"
      ],
      "metadata": {
        "id": "KSox952B999K"
      }
    },
    {
      "cell_type": "markdown",
      "source": [
        "Implement a first in first out (FIFO) queue using only two stacks. The implemented queue should support all the functions of a normal queue (push, peek, pop, and empty).\n",
        "\n",
        "Implement the MyQueue class:\n",
        "\n",
        "void push(int x) Pushes element x to the back of the queue.\n",
        "int pop() Removes the element from the front of the queue and returns it.\n",
        "int peek() Returns the element at the front of the queue.\n",
        "boolean empty() Returns true if the queue is empty, false otherwise.\n",
        "Notes:\n",
        "\n",
        "You must use only standard operations of a stack, which means only push to top, peek/pop from top, size, and is empty operations are valid.\n",
        "Depending on your language, the stack may not be supported natively. You may simulate a stack using a list or deque (double-ended queue) as long as you use only a stack's standard operations.\n",
        "\n",
        "\n",
        "Example 1:\n",
        "\n",
        "Input\n",
        "[\"MyQueue\", \"push\", \"push\", \"peek\", \"pop\", \"empty\"]\n",
        "[[], [1], [2], [], [], []]\n",
        "Output\n",
        "[null, null, null, 1, 1, false]\n",
        "\n",
        "Explanation\n",
        "MyQueue myQueue = new MyQueue();\n",
        "myQueue.push(1); // queue is: [1]\n",
        "myQueue.push(2); // queue is: [1, 2] (leftmost is front of the queue)\n",
        "myQueue.peek(); // return 1\n",
        "myQueue.pop(); // return 1, queue is [2]\n",
        "myQueue.empty(); // return false\n"
      ],
      "metadata": {
        "id": "Z5CgiMS0FnTH"
      }
    },
    {
      "cell_type": "code",
      "source": [
        "class MyQueue:\n",
        "\n",
        "    def __init__(self):\n",
        "        self.stack_in = []\n",
        "        self.stack_out = []\n",
        "\n",
        "    def push(self, x: int) -> None:\n",
        "        self.stack_in.append(x)\n",
        "\n",
        "    def pop(self) -> int:\n",
        "        if self.empty():\n",
        "            return None\n",
        "        if self.stack_out:\n",
        "            return self.stack_out.pop()\n",
        "        else:\n",
        "            while self.stack_in:\n",
        "                self.stack_out.append(self.stack_in.pop())\n",
        "            return self.stack_out.pop()\n",
        "\n",
        "    def peek(self) -> int:\n",
        "        s = self.pop()\n",
        "        self.stack_out.append(s)\n",
        "        return s\n",
        "\n",
        "    def empty(self) -> bool:\n",
        "        return not(self.stack_in or self.stack_out)\n",
        "\n",
        "\n",
        "# Your MyQueue object will be instantiated and called as such:\n",
        "# obj = MyQueue()\n",
        "# obj.push(x)\n",
        "# param_2 = obj.pop()\n",
        "# param_3 = obj.peek()\n",
        "# param_4 = obj.empty()\n",
        "\n",
        "# pop, peek time complexity: O(1) (amortized)\n",
        "# space complexity: O(n)"
      ],
      "metadata": {
        "id": "1iZ7Mpkt9_We"
      },
      "execution_count": null,
      "outputs": []
    },
    {
      "cell_type": "markdown",
      "source": [
        "##225. Implement Stack using Queues"
      ],
      "metadata": {
        "id": "1ZT3nO2jHfgk"
      }
    },
    {
      "cell_type": "markdown",
      "source": [
        "Implement a last-in-first-out (LIFO) stack using only two queues. The implemented stack should support all the functions of a normal stack (push, top, pop, and empty).\n",
        "\n",
        "Implement the MyStack class:\n",
        "\n",
        "void push(int x) Pushes element x to the top of the stack.\n",
        "int pop() Removes the element on the top of the stack and returns it.\n",
        "int top() Returns the element on the top of the stack.\n",
        "boolean empty() Returns true if the stack is empty, false otherwise.\n",
        "Notes:\n",
        "\n",
        "You must use only standard operations of a queue, which means that only push to back, peek/pop from front, size and is empty operations are valid.\n",
        "Depending on your language, the queue may not be supported natively. You may simulate a queue using a list or deque (double-ended queue) as long as you use only a queue's standard operations.\n",
        "\n",
        "\n",
        "Example 1:\n",
        "\n",
        "Input\n",
        "[\"MyStack\", \"push\", \"push\", \"top\", \"pop\", \"empty\"]\n",
        "[[], [1], [2], [], [], []]\n",
        "Output\n",
        "[null, null, null, 2, 2, false]\n"
      ],
      "metadata": {
        "id": "zDZ2_7BZHfgk"
      }
    },
    {
      "cell_type": "code",
      "source": [
        "from collections import deque\n",
        "class MyStack:\n",
        "\n",
        "    def __init__(self):\n",
        "        self.que = deque()\n",
        "\n",
        "    def push(self, x: int) -> None:\n",
        "        self.que.append(x)\n",
        "\n",
        "    def pop(self) -> int:\n",
        "        if self.empty():\n",
        "            return None\n",
        "        for i in range(len(self.que)-1):\n",
        "            self.que.append(self.que.popleft())\n",
        "        return self.que.popleft()\n",
        "\n",
        "\n",
        "    def top(self) -> int:\n",
        "        if self.empty():\n",
        "            return None\n",
        "        for i in range(len(self.que)-1):\n",
        "            self.que.append(self.que.popleft())\n",
        "        s = self.que.popleft()\n",
        "        self.que.append(s)\n",
        "        return s\n",
        "\n",
        "\n",
        "    def empty(self) -> bool:\n",
        "        return not self.que\n",
        "\n",
        "\n",
        "# Your MyStack object will be instantiated and called as such:\n",
        "# obj = MyStack()\n",
        "# obj.push(x)\n",
        "# param_2 = obj.pop()\n",
        "# param_3 = obj.top()\n",
        "# param_4 = obj.empty()\n",
        "\n",
        "# pop, peek time complexity: O(n)\n",
        "# space complexity: O(n)"
      ],
      "metadata": {
        "id": "Q6t2ftsXHfgl"
      },
      "execution_count": null,
      "outputs": []
    },
    {
      "cell_type": "markdown",
      "source": [
        "##20. Valid Parentheses"
      ],
      "metadata": {
        "id": "OUawjp9rpr45"
      }
    },
    {
      "cell_type": "markdown",
      "source": [
        "Given a string s containing just the characters '(', ')', '{', '}', '[' and ']', determine if the input string is valid.\n",
        "\n",
        "An input string is valid if:\n",
        "\n",
        "Open brackets must be closed by the same type of brackets.\n",
        "Open brackets must be closed in the correct order.\n",
        "Every close bracket has a corresponding open bracket of the same type.\n",
        "\n",
        "\n",
        "Example 1:\n",
        "\n",
        "Input: s = \"()\"\n",
        "\n",
        "Output: true\n"
      ],
      "metadata": {
        "id": "uaCOPfhVpr46"
      }
    },
    {
      "cell_type": "code",
      "source": [
        "class Solution:\n",
        "    def isValid(self, s: str) -> bool:\n",
        "        stack = []\n",
        "        for i in s:\n",
        "            if i == \"(\":\n",
        "                stack.append(\")\")\n",
        "            elif i == \"[\":\n",
        "                stack.append(\"]\")\n",
        "            elif i == \"{\":\n",
        "                stack.append(\"}\")\n",
        "            elif stack and stack[-1] == i:\n",
        "                stack.pop()\n",
        "            else:\n",
        "                return False\n",
        "        return True if not stack else False\n",
        "\n",
        "# time complexity: O(n)\n",
        "# space complexity: O(n)"
      ],
      "metadata": {
        "id": "IKUpbO73pr46"
      },
      "execution_count": null,
      "outputs": []
    },
    {
      "cell_type": "markdown",
      "source": [
        "##1047. Remove All Adjacent Duplicates In String"
      ],
      "metadata": {
        "id": "koqRGCaEZxee"
      }
    },
    {
      "cell_type": "markdown",
      "source": [
        "You are given a string s consisting of lowercase English letters. A duplicate removal consists of choosing two adjacent and equal letters and removing them.\n",
        "\n",
        "We repeatedly make duplicate removals on s until we no longer can.\n",
        "\n",
        "Return the final string after all such duplicate removals have been made. It can be proven that the answer is unique.\n",
        "\n",
        "\n",
        "\n",
        "Example 1:\n",
        "\n",
        "Input: s = \"abbaca\"\n",
        "Output: \"ca\"\n",
        "Explanation:\n",
        "For example, in \"abbaca\" we could remove \"bb\" since the letters are adjacent and equal, and this is the only possible move.  The result of this move is that the string is \"aaca\", of which only \"aa\" is possible, so the final string is \"ca\".\n",
        "\n"
      ],
      "metadata": {
        "id": "sDEMIfT9Zxef"
      }
    },
    {
      "cell_type": "code",
      "source": [
        "class Solution:\n",
        "    def removeDuplicates(self, s: str) -> str:\n",
        "        res = list()\n",
        "        for i in s:\n",
        "            if res and res[-1] == i:\n",
        "                res.pop()\n",
        "            else:\n",
        "                res.append(i)\n",
        "        return ''.join(res)\n",
        "\n",
        "# time complexity: O(n)\n",
        "# space complexity: O(1)"
      ],
      "metadata": {
        "id": "Y9U5DZ5oZxeg"
      },
      "execution_count": null,
      "outputs": []
    },
    {
      "cell_type": "markdown",
      "source": [
        "##239. Sliding Window Maximum"
      ],
      "metadata": {
        "id": "qaHWPI9LKncB"
      }
    },
    {
      "cell_type": "markdown",
      "source": [
        "You are given an array of integers nums, there is a sliding window of size k which is moving from the very left of the array to the very right. You can only see the k numbers in the window. Each time the sliding window moves right by one position.\n",
        "\n",
        "Return the max sliding window.\n",
        "\n",
        "\n",
        "\n",
        "Example 1:\n",
        "\n",
        "Input: nums = [1,3,-1,-3,5,3,6,7], k = 3\n",
        "Output: [3,3,5,5,6,7]\n",
        "\n"
      ],
      "metadata": {
        "id": "Yaa9Gk57KncC"
      }
    },
    {
      "cell_type": "code",
      "source": [
        "from collections import deque\n",
        "class MyQueue:\n",
        "    def __init__(self):\n",
        "        self.queue = deque()\n",
        "    def pop(self, value):\n",
        "        if self.queue and self.queue[0]==value:\n",
        "            self.queue.popleft()\n",
        "    def push(self, value):\n",
        "        while self.queue and value > self.queue[-1]:\n",
        "            self.queue.pop()\n",
        "        self.queue.append(value)\n",
        "\n",
        "    def front(self):\n",
        "        return self.queue[0]\n",
        "\n",
        "\n",
        "class Solution:\n",
        "    def maxSlidingWindow(self, nums: List[int], k: int) -> List[int]:\n",
        "        myqueue = MyQueue()\n",
        "        result = []\n",
        "        for i in range(k):\n",
        "            myqueue.push(nums[i])\n",
        "        result.append(myqueue.front())\n",
        "        for i in range(len(nums)-k):\n",
        "            myqueue.pop(nums[i])\n",
        "            myqueue.push(nums[i+k])\n",
        "            result.append(myqueue.front())\n",
        "        return result\n",
        "\n",
        "# time complexity: O(n)\n",
        "# space complexity: O(k)"
      ],
      "metadata": {
        "id": "rRfB6ujNKncC"
      },
      "execution_count": null,
      "outputs": []
    },
    {
      "cell_type": "markdown",
      "source": [
        "##347. Top K Frequent Elements"
      ],
      "metadata": {
        "id": "wEjJjky6kzsg"
      }
    },
    {
      "cell_type": "markdown",
      "source": [
        "Given an integer array nums and an integer k, return the k most frequent elements. You may return the answer in any order.\n",
        "\n",
        "\n",
        "\n",
        "Example 1:\n",
        "\n",
        "Input: nums = [1,1,1,2,2,3], k = 2\n",
        "Output: [1,2]\n"
      ],
      "metadata": {
        "id": "KcZ-rb7Rkzsg"
      }
    },
    {
      "cell_type": "code",
      "source": [
        "import heapq\n",
        "from collections import Counter\n",
        "class Solution:\n",
        "    def topKFrequent(self, nums: List[int], k: int) -> List[int]:\n",
        "        cnt = Counter(nums)\n",
        "        pri_que = []\n",
        "        for key, val in cnt.items():\n",
        "            heapq.heappush(pri_que,(val,key))\n",
        "            if len(pri_que) > k:\n",
        "                heapq.heappop(pri_que)\n",
        "        ans = []\n",
        "        for i in range(len(pri_que)):\n",
        "            ans.append(heapq.heappop(pri_que)[1])\n",
        "        return ans\n",
        "\n",
        "# time complexity: O(nlogk)\n",
        "# space complexity: O(n)"
      ],
      "metadata": {
        "id": "QNHBG3YPkzsh"
      },
      "execution_count": null,
      "outputs": []
    },
    {
      "cell_type": "markdown",
      "source": [
        "# Binary Tree"
      ],
      "metadata": {
        "id": "PcE_EtMfe5al"
      }
    },
    {
      "cell_type": "code",
      "source": [
        "# define a treenode\n",
        "class treenode:\n",
        "  def __init__(self, val, left=None, right=None):\n",
        "    self.val = val\n",
        "    self.left = left\n",
        "    self.right = right\n"
      ],
      "metadata": {
        "id": "TuXeuji4e7Yv"
      },
      "execution_count": null,
      "outputs": []
    },
    {
      "cell_type": "markdown",
      "source": [
        "DFS:\n",
        "\n",
        "iteration vs recursion\n",
        "*   PreOrder Traversal (mid, left, right)\n",
        "*   InOrder Traversal (left, mid, right)\n",
        "*   PostOrder Traversal (left, right, mid)\n",
        "\n",
        "BFS:\n",
        "iteration\n",
        "* LevelOrder Traversal\n",
        "\n"
      ],
      "metadata": {
        "id": "xPK6imy5Gysn"
      }
    },
    {
      "cell_type": "code",
      "source": [
        "# DFS - preorder traversal - recursion\n",
        "class Solution:\n",
        "    def preorderTraversal(self, root: Optional[TreeNode]) -> List[int]:\n",
        "        ans = []\n",
        "        def dfs(node):\n",
        "          if node is None:\n",
        "            return None\n",
        "          ans.append(self.val)\n",
        "          dfs(node.left)\n",
        "          dfs(node.right)\n",
        "        dfs(node)\n",
        "        return ans\n",
        "\n",
        "# time complexity: O(n)\n",
        "# space complexity: O(logn)"
      ],
      "metadata": {
        "id": "daTLNefFi58x"
      },
      "execution_count": null,
      "outputs": []
    },
    {
      "cell_type": "code",
      "source": [
        "# DFS - preorder traversal - iteration\n",
        "class Solution:\n",
        "    def preorderTraversal(self, root: Optional[TreeNode]) -> List[int]:\n",
        "      ans = []\n",
        "      stack = [root]\n",
        "      while stack:\n",
        "        node = stack.pop()\n",
        "        if not node:\n",
        "          return\n",
        "        ans.append(node.val)\n",
        "        if node.right:\n",
        "          stack.append(node.right)\n",
        "        if node.left:\n",
        "        stack.append(node.left)\n",
        "      return ans\n",
        "\n",
        "# time complexity: O(n)\n",
        "# space complexity: O(logn)"
      ],
      "metadata": {
        "id": "4XL0jDh-H2cr"
      },
      "execution_count": null,
      "outputs": []
    },
    {
      "cell_type": "code",
      "source": [
        "# BFS - level traversal - iteration\n",
        "# Definition for a binary tree node.\n",
        "# class TreeNode:\n",
        "#     def __init__(self, val=0, left=None, right=None):\n",
        "#         self.val = val\n",
        "#         self.left = left\n",
        "#         self.right = right\n",
        "from collections import deque\n",
        "class Solution:\n",
        "    def levelOrder(self, root: Optional[TreeNode]) -> List[List[int]]:\n",
        "        ans = []\n",
        "        if not root:\n",
        "            return []\n",
        "        queue = deque([root])\n",
        "        while queue:\n",
        "            level = []\n",
        "            for _ in range(len(queue)):\n",
        "                node = queue.popleft()\n",
        "                level.append(node.val)\n",
        "                if node.left:\n",
        "                    queue.append(node.left)\n",
        "                if node.right:\n",
        "                    queue.append(node.right)\n",
        "            ans.append(level)\n",
        "        return ans\n",
        "# time complexity: O(n)\n",
        "# space complexity: O(n)"
      ],
      "metadata": {
        "id": "udchh1bdOlET"
      },
      "execution_count": null,
      "outputs": []
    },
    {
      "cell_type": "markdown",
      "source": [
        "##226. Invert Binary Tree"
      ],
      "metadata": {
        "id": "UR6sZ87eUhcC"
      }
    },
    {
      "cell_type": "markdown",
      "source": [
        "Given the root of a binary tree, invert the tree, and return its root."
      ],
      "metadata": {
        "id": "82QYsvdbUhcD"
      }
    },
    {
      "cell_type": "code",
      "source": [
        "# Definition for a binary tree node.\n",
        "# class TreeNode:\n",
        "#     def __init__(self, val=0, left=None, right=None):\n",
        "#         self.val = val\n",
        "#         self.left = left\n",
        "#         self.right = right\n",
        "from collections import deque\n",
        "class Solution:\n",
        "    def invertTree(self, root: Optional[TreeNode]) -> Optional[TreeNode]:\n",
        "        if not root:\n",
        "            return None\n",
        "        queue = deque([root])\n",
        "        while queue:\n",
        "            node = queue.popleft()\n",
        "            node.left, node.right = node.right, node.left\n",
        "            if node.left:\n",
        "                queue.append(node.left)\n",
        "            if node.right:\n",
        "                queue.append(node.right)\n",
        "        return root\n",
        "\n",
        "# time complexity: O(n)\n",
        "# space complexity: O(n)"
      ],
      "metadata": {
        "id": "OVNrdnMRUhcD"
      },
      "execution_count": null,
      "outputs": []
    },
    {
      "cell_type": "markdown",
      "source": [
        "##101. Symmetric Tree"
      ],
      "metadata": {
        "id": "RT8IfLxsPTcB"
      }
    },
    {
      "cell_type": "markdown",
      "source": [
        "Given the root of a binary tree, check whether it is a mirror of itself (i.e., symmetric around its center)."
      ],
      "metadata": {
        "id": "9uAO7Cc8PTcB"
      }
    },
    {
      "cell_type": "code",
      "source": [
        "# Definition for a binary tree node.\n",
        "# class TreeNode:\n",
        "#     def __init__(self, val=0, left=None, right=None):\n",
        "#         self.val = val\n",
        "#         self.left = left\n",
        "#         self.right = right\n",
        "class Solution:\n",
        "    def isSymmetric(self, root: Optional[TreeNode]) -> bool:\n",
        "        def isMirror(left,right):\n",
        "            if not left and not right:\n",
        "                return True\n",
        "            elif not left or not right:\n",
        "                return False\n",
        "            return left.val==right.val and isMirror(left.left,right.right) and isMirror(left.right, right.left)\n",
        "        return isMirror(root.left, root.right)\n",
        "\n",
        "# time complexity: O(n)\n",
        "# space complexity: O(logn)"
      ],
      "metadata": {
        "id": "B7KS9IZuPTcB"
      },
      "execution_count": null,
      "outputs": []
    },
    {
      "cell_type": "markdown",
      "source": [
        "##111. Minimum Depth of Binary Tree"
      ],
      "metadata": {
        "id": "S3IdR58gYtiX"
      }
    },
    {
      "cell_type": "markdown",
      "source": [
        "Given a binary tree, find its minimum depth.\n",
        "\n",
        "The minimum depth is the number of nodes along the shortest path from the root node down to the nearest leaf node.\n",
        "\n",
        "Note: A leaf is a node with no children.\n",
        "\n",
        "\n",
        "\n",
        "Example 1:\n",
        "\n",
        "\n",
        "Input: root = [3,9,20,null,null,15,7]\n",
        "Output: 2"
      ],
      "metadata": {
        "id": "8VHOWPM7YtiY"
      }
    },
    {
      "cell_type": "code",
      "source": [
        "# levelOrder traversal (BFS)\n",
        "# Definition for a binary tree node.\n",
        "# class TreeNode:\n",
        "#     def __init__(self, val=0, left=None, right=None):\n",
        "#         self.val = val\n",
        "#         self.left = left\n",
        "#         self.right = right\n",
        "from collections import deque\n",
        "class Solution:\n",
        "    def minDepth(self, root: Optional[TreeNode]) -> int:\n",
        "        if not root:\n",
        "            return 0\n",
        "        queue = deque([root])\n",
        "        depth = 1\n",
        "        while queue:\n",
        "            for _ in range(len(queue)):\n",
        "                node = queue.popleft()\n",
        "                if not node.left and not node.right:\n",
        "                    return depth\n",
        "                if node.left:\n",
        "                    queue.append(node.left)\n",
        "                if node.right:\n",
        "                    queue.append(node.right)\n",
        "            depth += 1\n",
        "# time complexity: O(n)\n",
        "# space complexity: O(n)"
      ],
      "metadata": {
        "id": "yEQbtsBSYtiY"
      },
      "execution_count": null,
      "outputs": []
    },
    {
      "cell_type": "markdown",
      "source": [
        "# Backtraing Algorithm"
      ],
      "metadata": {
        "id": "Q2VCqFbo6pfY"
      }
    },
    {
      "cell_type": "code",
      "source": [],
      "metadata": {
        "id": "4Y684yMO6xEf"
      },
      "execution_count": null,
      "outputs": []
    },
    {
      "cell_type": "markdown",
      "source": [
        "# Greedy Algorithm"
      ],
      "metadata": {
        "id": "Rym3nWVb6xq0"
      }
    },
    {
      "cell_type": "markdown",
      "source": [
        "##376. Wiggle Subsequence"
      ],
      "metadata": {
        "id": "M3ctcKLm9zUx"
      }
    },
    {
      "cell_type": "markdown",
      "source": [
        "A wiggle sequence is a sequence where the differences between successive numbers strictly alternate between positive and negative. The first difference (if one exists) may be either positive or negative. A sequence with one element and a sequence with two non-equal elements are trivially wiggle sequences.\n",
        "\n",
        "For example, [1, 7, 4, 9, 2, 5] is a wiggle sequence because the differences (6, -3, 5, -7, 3) alternate between positive and negative.\n",
        "In contrast, [1, 4, 7, 2, 5] and [1, 7, 4, 5, 5] are not wiggle sequences. The first is not because its first two differences are positive, and the second is not because its last difference is zero.\n",
        "A subsequence is obtained by deleting some elements (possibly zero) from the original sequence, leaving the remaining elements in their original order.\n",
        "\n",
        "Given an integer array nums, return the length of the longest wiggle subsequence of nums.\n",
        "\n",
        "\n",
        "\n",
        "Example 1:\n",
        "\n",
        "Input: nums = [1,7,4,9,2,5]\n",
        "Output: 6\n",
        "Explanation: The entire sequence is a wiggle sequence with differences (6, -3, 5, -7, 3)."
      ],
      "metadata": {
        "id": "IBt_CG_T9zUx"
      }
    },
    {
      "cell_type": "code",
      "source": [
        "class Solution:\n",
        "    def wiggleMaxLength(self, nums: List[int]) -> int:\n",
        "        if len(nums)==1:\n",
        "            return 1\n",
        "        up = 1\n",
        "        down = 1\n",
        "        for i in range(1,len(nums)):\n",
        "            if nums[i] > nums[i-1]:\n",
        "                up = down + 1\n",
        "            elif nums[i] < nums[i-1]:\n",
        "                down = up + 1\n",
        "        return max(up,down)\n",
        "\n",
        "# time complexity: O(n)\n",
        "# space complexity: O(1)"
      ],
      "metadata": {
        "id": "VPVsPk9r9zUx"
      },
      "execution_count": null,
      "outputs": []
    },
    {
      "cell_type": "code",
      "source": [
        "class Solution:\n",
        "    def wiggleMaxLength(self, nums: List[int]) -> int:\n",
        "        if len(nums)==1:\n",
        "            return 1\n",
        "        curdiff, prediff, result = 0,0,1\n",
        "        for i in range(1,len(nums)):\n",
        "            curdiff = nums[i] - nums[i-1]\n",
        "            if curdiff*prediff <= 0 and curdiff !=0:\n",
        "                result += 1\n",
        "                prediff = curdiff\n",
        "        return result\n",
        "\n",
        "# time complexity: O(n)\n",
        "# space complexity: O(1)"
      ],
      "metadata": {
        "id": "mifHmiDx6zb-"
      },
      "execution_count": null,
      "outputs": []
    },
    {
      "cell_type": "markdown",
      "source": [
        "##1005. Maximize Sum Of Array After K Negations"
      ],
      "metadata": {
        "id": "uJSyvDPq9lxi"
      }
    },
    {
      "cell_type": "markdown",
      "source": [
        "Given an integer array nums and an integer k, modify the array in the following way:\n",
        "\n",
        "choose an index i and replace nums[i] with -nums[i].\n",
        "You should apply this process exactly k times. You may choose the same index i multiple times.\n",
        "\n",
        "Return the largest possible sum of the array after modifying it in this way.\n",
        "\n",
        "\n",
        "\n",
        "Example 1:\n",
        "\n",
        "Input: nums = [4,2,3], k = 1\n",
        "Output: 5\n",
        "Explanation: Choose index 1 and nums becomes [4,-2,3].\n"
      ],
      "metadata": {
        "id": "YwJdrw-Z9lxj"
      }
    },
    {
      "cell_type": "code",
      "source": [
        "class Solution:\n",
        "    def largestSumAfterKNegations(self, nums: List[int], k: int) -> int:\n",
        "        nums.sort()\n",
        "        for i in range(len(nums)):\n",
        "            if k>0 and nums[i] < 0:\n",
        "                nums[i] = -nums[i]\n",
        "                k-=1\n",
        "        if k == 0:\n",
        "            return sum(nums)\n",
        "        nums.sort()\n",
        "        if k>0:\n",
        "            if k%2==0:\n",
        "                return sum(nums)\n",
        "            else:\n",
        "                return sum(nums)-2*nums[0]\n",
        "\n",
        "# time complexity: O(nlogn)\n",
        "# space complexity: O(1)"
      ],
      "metadata": {
        "id": "Kf7VZgJA9lxj"
      },
      "execution_count": null,
      "outputs": []
    },
    {
      "cell_type": "markdown",
      "source": [
        "##455. Assign Cookies"
      ],
      "metadata": {
        "id": "9FS56LPs-06K"
      }
    },
    {
      "cell_type": "markdown",
      "source": [
        "Assume you are an awesome parent and want to give your children some cookies. But, you should give each child at most one cookie.\n",
        "\n",
        "Each child i has a greed factor g[i], which is the minimum size of a cookie that the child will be content with; and each cookie j has a size s[j]. If s[j] >= g[i], we can assign the cookie j to the child i, and the child i will be content. Your goal is to maximize the number of your content children and output the maximum number.\n",
        "\n",
        "\n",
        "\n",
        "Example 1:\n",
        "\n",
        "Input: g = [1,2,3], s = [1,1]\n",
        "Output: 1\n",
        "Explanation: You have 3 children and 2 cookies. The greed factors of 3 children are 1, 2, 3.\n",
        "And even though you have 2 cookies, since their size is both 1, you could only make the child whose greed factor is 1 content.\n",
        "You need to output 1.\n"
      ],
      "metadata": {
        "id": "gCzoKnIA-06L"
      }
    },
    {
      "cell_type": "code",
      "source": [
        "class Solution:\n",
        "    def findContentChildren(self, g: List[int], s: List[int]) -> int:\n",
        "        g.sort()\n",
        "        s.sort()\n",
        "        j = len(s) - 1\n",
        "        ans = 0\n",
        "        for i in range(len(g)-1,-1,-1):\n",
        "            if j >= 0 and g[i] <= s[j]:\n",
        "                ans += 1\n",
        "                j -= 1\n",
        "        return ans\n",
        "\n",
        "# time complexity: O(nlogn)\n",
        "# space complexity: O(1)"
      ],
      "metadata": {
        "id": "fjvgQdNd-06L"
      },
      "execution_count": null,
      "outputs": []
    },
    {
      "cell_type": "markdown",
      "source": [
        "##53. Maximum Subarray"
      ],
      "metadata": {
        "id": "1P8VpX0dBkfv"
      }
    },
    {
      "cell_type": "markdown",
      "source": [
        "Given an integer array nums, find the subarray with the largest sum, and return its sum.\n",
        "\n",
        "\n",
        "\n",
        "Example 1:\n",
        "\n",
        "Input: nums = [-2,1,-3,4,-1,2,1,-5,4]\n",
        "Output: 6\n",
        "Explanation: The subarray [4,-1,2,1] has the largest sum 6.\n"
      ],
      "metadata": {
        "id": "04tT5E2fBkfw"
      }
    },
    {
      "cell_type": "code",
      "source": [
        "class Solution:\n",
        "    def maxSubArray(self, nums: List[int]) -> int:\n",
        "        ans = -float('inf')\n",
        "        cursum = 0\n",
        "        for i in range(len(nums)):\n",
        "            cursum += nums[i]\n",
        "            ans = max(ans,cursum)\n",
        "            if cursum < 0:\n",
        "                cursum = 0\n",
        "        return ans\n",
        "\n",
        "# time complexity: O(n)\n",
        "# space complexity: O(1)"
      ],
      "metadata": {
        "id": "bWvyLhljBkfw"
      },
      "execution_count": null,
      "outputs": []
    },
    {
      "cell_type": "markdown",
      "source": [
        "##122. Best Time to Buy and Sell Stock II"
      ],
      "metadata": {
        "id": "UtR5aDbxEGsw"
      }
    },
    {
      "cell_type": "markdown",
      "source": [
        "You are given an integer array prices where prices[i] is the price of a given stock on the ith day.\n",
        "\n",
        "On each day, you may decide to buy and/or sell the stock. You can only hold at most one share of the stock at any time. However, you can buy it then immediately sell it on the same day.\n",
        "\n",
        "Find and return the maximum profit you can achieve.\n",
        "\n",
        "\n",
        "\n",
        "Example 1:\n",
        "\n",
        "Input: prices = [7,1,5,3,6,4]\n",
        "Output: 7\n",
        "Explanation: Buy on day 2 (price = 1) and sell on day 3 (price = 5), profit = 5-1 = 4.\n",
        "Then buy on day 4 (price = 3) and sell on day 5 (price = 6), profit = 6-3 = 3.\n",
        "Total profit is 4 + 3 = 7.\n"
      ],
      "metadata": {
        "id": "t9mxhghiEGsw"
      }
    },
    {
      "cell_type": "code",
      "source": [
        "class Solution:\n",
        "    def maxProfit(self, prices: List[int]) -> int:\n",
        "        ans = 0\n",
        "        for i in range(len(prices)-1):\n",
        "            if prices[i+1] - prices[i] > 0:\n",
        "                ans += prices[i+1] - prices[i]\n",
        "        return ans\n",
        "\n",
        "# time complexity: O(n)\n",
        "# space complexity: O(1)"
      ],
      "metadata": {
        "id": "6xs-Th9_EGsx"
      },
      "execution_count": null,
      "outputs": []
    },
    {
      "cell_type": "markdown",
      "source": [
        "##55. Jump Game"
      ],
      "metadata": {
        "id": "rn1v5RlPNUuX"
      }
    },
    {
      "cell_type": "markdown",
      "source": [
        "You are given an integer array nums. You are initially positioned at the array's first index, and each element in the array represents your maximum jump length at that position.\n",
        "\n",
        "Return true if you can reach the last index, or false otherwise.\n",
        "\n",
        "\n",
        "\n",
        "Example 1:\n",
        "\n",
        "Input: nums = [2,3,1,1,4]\n",
        "Output: true\n",
        "Explanation: Jump 1 step from index 0 to 1, then 3 steps to the last index.\n"
      ],
      "metadata": {
        "id": "kDnlVWkONUuX"
      }
    },
    {
      "cell_type": "code",
      "source": [
        "class Solution:\n",
        "    def canJump(self, nums: List[int]) -> bool:\n",
        "        cover = 0\n",
        "        for i in range(len(nums)):\n",
        "            if i<= cover:\n",
        "                cover = max(cover, i+nums[i])\n",
        "            if cover >= len(nums) -1:\n",
        "                return True\n",
        "        return False\n",
        "\n",
        "\n",
        "# time complexity: O(n)\n",
        "# space complexity: O(1)"
      ],
      "metadata": {
        "id": "2ExD7bo9NUuY"
      },
      "execution_count": null,
      "outputs": []
    },
    {
      "cell_type": "markdown",
      "source": [
        "# Dynamic Programming"
      ],
      "metadata": {
        "id": "24YuUXys60Ek"
      }
    },
    {
      "cell_type": "code",
      "source": [],
      "metadata": {
        "id": "DqmxuZ0w62Fa"
      },
      "execution_count": null,
      "outputs": []
    }
  ]
}